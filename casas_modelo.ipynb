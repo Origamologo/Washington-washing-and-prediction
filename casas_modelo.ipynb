{
 "cells": [
  {
   "cell_type": "code",
   "execution_count": 2,
   "metadata": {},
   "outputs": [],
   "source": [
    "import pandas as pd\n",
    "import numpy as np\n",
    "\n",
    "import matplotlib.pyplot as plt\n",
    "from matplotlib import style\n",
    "import matplotlib.ticker as ticker\n",
    "import seaborn as sns\n",
    "from sklearn.model_selection import train_test_split\n",
    "plt.rcParams[\"figure.figsize\"] = (10,8)\n",
    "\n",
    "import statsmodels.formula.api as smf\n",
    "\n",
    "\n",
    "from sklearn.linear_model import LinearRegression\n",
    "from sklearn.ensemble import RandomForestRegressor\n",
    "from sklearn.tree import DecisionTreeRegressor \n",
    "from sklearn.model_selection import GridSearchCV\n",
    "from sklearn import tree\n",
    "\n",
    "\n",
    "\n",
    "from sklearn.model_selection import cross_val_score\n",
    "from sklearn.model_selection import cross_validate\n",
    "from sklearn import metrics\n",
    "\n",
    "import warnings\n",
    "warnings.filterwarnings('ignore')"
   ]
  },
  {
   "cell_type": "code",
   "execution_count": 4,
   "metadata": {},
   "outputs": [],
   "source": [
    "casas_est = pd.read_csv(r\"data\\casas_est.csv\")"
   ]
  },
  {
   "cell_type": "code",
   "execution_count": 11,
   "metadata": {},
   "outputs": [],
   "source": [
    "casas_no_outliers_categorical = pd.read_csv(r\"data\\casas_no_outliers_categorical.csv\")"
   ]
  },
  {
   "cell_type": "code",
   "execution_count": 5,
   "metadata": {},
   "outputs": [
    {
     "data": {
      "text/html": [
       "<div>\n",
       "<style scoped>\n",
       "    .dataframe tbody tr th:only-of-type {\n",
       "        vertical-align: middle;\n",
       "    }\n",
       "\n",
       "    .dataframe tbody tr th {\n",
       "        vertical-align: top;\n",
       "    }\n",
       "\n",
       "    .dataframe thead th {\n",
       "        text-align: right;\n",
       "    }\n",
       "</style>\n",
       "<table border=\"1\" class=\"dataframe\">\n",
       "  <thead>\n",
       "    <tr style=\"text-align: right;\">\n",
       "      <th></th>\n",
       "      <th>bedrooms</th>\n",
       "      <th>waterfront</th>\n",
       "      <th>view</th>\n",
       "      <th>condition</th>\n",
       "      <th>grade</th>\n",
       "      <th>sqft_above</th>\n",
       "      <th>sqft_basement</th>\n",
       "      <th>bat_bed</th>\n",
       "      <th>sqft_floors</th>\n",
       "      <th>x0_98001</th>\n",
       "      <th>...</th>\n",
       "      <th>x0_98148</th>\n",
       "      <th>x0_98155</th>\n",
       "      <th>x0_98166</th>\n",
       "      <th>x0_98168</th>\n",
       "      <th>x0_98177</th>\n",
       "      <th>x0_98178</th>\n",
       "      <th>x0_98188</th>\n",
       "      <th>x0_98198</th>\n",
       "      <th>x0_98199</th>\n",
       "      <th>price_BOXCOX</th>\n",
       "    </tr>\n",
       "  </thead>\n",
       "  <tbody>\n",
       "    <tr>\n",
       "      <th>0</th>\n",
       "      <td>3</td>\n",
       "      <td>0</td>\n",
       "      <td>0</td>\n",
       "      <td>3</td>\n",
       "      <td>7</td>\n",
       "      <td>1180</td>\n",
       "      <td>0</td>\n",
       "      <td>0.333333</td>\n",
       "      <td>1180.0</td>\n",
       "      <td>0</td>\n",
       "      <td>...</td>\n",
       "      <td>0</td>\n",
       "      <td>0</td>\n",
       "      <td>0</td>\n",
       "      <td>0</td>\n",
       "      <td>0</td>\n",
       "      <td>1</td>\n",
       "      <td>0</td>\n",
       "      <td>0</td>\n",
       "      <td>0</td>\n",
       "      <td>39.788731</td>\n",
       "    </tr>\n",
       "    <tr>\n",
       "      <th>1</th>\n",
       "      <td>3</td>\n",
       "      <td>0</td>\n",
       "      <td>0</td>\n",
       "      <td>3</td>\n",
       "      <td>7</td>\n",
       "      <td>2170</td>\n",
       "      <td>400</td>\n",
       "      <td>0.666667</td>\n",
       "      <td>1085.0</td>\n",
       "      <td>0</td>\n",
       "      <td>...</td>\n",
       "      <td>0</td>\n",
       "      <td>0</td>\n",
       "      <td>0</td>\n",
       "      <td>0</td>\n",
       "      <td>0</td>\n",
       "      <td>0</td>\n",
       "      <td>0</td>\n",
       "      <td>0</td>\n",
       "      <td>0</td>\n",
       "      <td>46.958452</td>\n",
       "    </tr>\n",
       "    <tr>\n",
       "      <th>2</th>\n",
       "      <td>2</td>\n",
       "      <td>0</td>\n",
       "      <td>0</td>\n",
       "      <td>3</td>\n",
       "      <td>6</td>\n",
       "      <td>770</td>\n",
       "      <td>0</td>\n",
       "      <td>0.500000</td>\n",
       "      <td>770.0</td>\n",
       "      <td>0</td>\n",
       "      <td>...</td>\n",
       "      <td>0</td>\n",
       "      <td>0</td>\n",
       "      <td>0</td>\n",
       "      <td>0</td>\n",
       "      <td>0</td>\n",
       "      <td>0</td>\n",
       "      <td>0</td>\n",
       "      <td>0</td>\n",
       "      <td>0</td>\n",
       "      <td>38.241258</td>\n",
       "    </tr>\n",
       "    <tr>\n",
       "      <th>3</th>\n",
       "      <td>4</td>\n",
       "      <td>0</td>\n",
       "      <td>0</td>\n",
       "      <td>5</td>\n",
       "      <td>7</td>\n",
       "      <td>1050</td>\n",
       "      <td>910</td>\n",
       "      <td>0.750000</td>\n",
       "      <td>1050.0</td>\n",
       "      <td>0</td>\n",
       "      <td>...</td>\n",
       "      <td>0</td>\n",
       "      <td>0</td>\n",
       "      <td>0</td>\n",
       "      <td>0</td>\n",
       "      <td>0</td>\n",
       "      <td>0</td>\n",
       "      <td>0</td>\n",
       "      <td>0</td>\n",
       "      <td>0</td>\n",
       "      <td>47.974488</td>\n",
       "    </tr>\n",
       "    <tr>\n",
       "      <th>4</th>\n",
       "      <td>3</td>\n",
       "      <td>0</td>\n",
       "      <td>0</td>\n",
       "      <td>3</td>\n",
       "      <td>8</td>\n",
       "      <td>1680</td>\n",
       "      <td>0</td>\n",
       "      <td>0.666667</td>\n",
       "      <td>1680.0</td>\n",
       "      <td>0</td>\n",
       "      <td>...</td>\n",
       "      <td>0</td>\n",
       "      <td>0</td>\n",
       "      <td>0</td>\n",
       "      <td>0</td>\n",
       "      <td>0</td>\n",
       "      <td>0</td>\n",
       "      <td>0</td>\n",
       "      <td>0</td>\n",
       "      <td>0</td>\n",
       "      <td>46.495622</td>\n",
       "    </tr>\n",
       "  </tbody>\n",
       "</table>\n",
       "<p>5 rows × 80 columns</p>\n",
       "</div>"
      ],
      "text/plain": [
       "   bedrooms  waterfront  view  condition  grade  sqft_above  sqft_basement  \\\n",
       "0         3           0     0          3      7        1180              0   \n",
       "1         3           0     0          3      7        2170            400   \n",
       "2         2           0     0          3      6         770              0   \n",
       "3         4           0     0          5      7        1050            910   \n",
       "4         3           0     0          3      8        1680              0   \n",
       "\n",
       "    bat_bed  sqft_floors  x0_98001  ...  x0_98148  x0_98155  x0_98166  \\\n",
       "0  0.333333       1180.0         0  ...         0         0         0   \n",
       "1  0.666667       1085.0         0  ...         0         0         0   \n",
       "2  0.500000        770.0         0  ...         0         0         0   \n",
       "3  0.750000       1050.0         0  ...         0         0         0   \n",
       "4  0.666667       1680.0         0  ...         0         0         0   \n",
       "\n",
       "   x0_98168  x0_98177  x0_98178  x0_98188  x0_98198  x0_98199  price_BOXCOX  \n",
       "0         0         0         1         0         0         0     39.788731  \n",
       "1         0         0         0         0         0         0     46.958452  \n",
       "2         0         0         0         0         0         0     38.241258  \n",
       "3         0         0         0         0         0         0     47.974488  \n",
       "4         0         0         0         0         0         0     46.495622  \n",
       "\n",
       "[5 rows x 80 columns]"
      ]
     },
     "execution_count": 5,
     "metadata": {},
     "output_type": "execute_result"
    }
   ],
   "source": [
    "casas_est.head(5)"
   ]
  },
  {
   "cell_type": "code",
   "execution_count": 6,
   "metadata": {},
   "outputs": [],
   "source": [
    "# Reparto de datos en train y test\n",
    "# ==============================================================================\n",
    "# lo primero que hacemos es definir cual es nuestra variable Y y nuestras variables X\n",
    "X = casas_est.drop('price_BOXCOX', axis =1)\n",
    "y = casas_est['price_BOXCOX']\n",
    "\n",
    "\n",
    "X_train, X_test, y_train, y_test = train_test_split(X, y, train_size   = 0.8)"
   ]
  },
  {
   "cell_type": "code",
   "execution_count": 7,
   "metadata": {},
   "outputs": [
    {
     "name": "stdout",
     "output_type": "stream",
     "text": [
      "Datos de entrenamiento\n",
      "-----------------------\n",
      "count    16324.000000\n",
      "mean        45.240829\n",
      "std          3.718970\n",
      "min         32.721956\n",
      "25%         42.501239\n",
      "50%         45.180503\n",
      "75%         47.915622\n",
      "max         53.734704\n",
      "Name: price_BOXCOX, dtype: float64\n"
     ]
    }
   ],
   "source": [
    "print(\"Datos de entrenamiento\")\n",
    "print(\"-----------------------\")\n",
    "print(y_train.describe())"
   ]
  },
  {
   "cell_type": "code",
   "execution_count": 8,
   "metadata": {},
   "outputs": [
    {
     "name": "stdout",
     "output_type": "stream",
     "text": [
      "Datos de testeo\n",
      "-----------------------\n",
      "count    4082.000000\n",
      "mean       45.281551\n",
      "std         3.721702\n",
      "min        32.918275\n",
      "25%        42.571793\n",
      "50%        45.238046\n",
      "75%        47.989153\n",
      "max        53.734704\n",
      "Name: price_BOXCOX, dtype: float64\n"
     ]
    }
   ],
   "source": [
    "print(\"Datos de testeo\")\n",
    "print(\"-----------------------\")\n",
    "print(y_test.describe())"
   ]
  },
  {
   "cell_type": "code",
   "execution_count": 9,
   "metadata": {},
   "outputs": [
    {
     "data": {
      "text/plain": [
       "Index(['bedrooms', 'waterfront', 'view', 'condition', 'grade', 'sqft_above',\n",
       "       'sqft_basement', 'bat_bed', 'sqft_floors', 'x0_98001', 'x0_98002',\n",
       "       'x0_98003', 'x0_98004', 'x0_98005', 'x0_98006', 'x0_98007', 'x0_98008',\n",
       "       'x0_98010', 'x0_98011', 'x0_98014', 'x0_98019', 'x0_98022', 'x0_98023',\n",
       "       'x0_98024', 'x0_98027', 'x0_98028', 'x0_98029', 'x0_98030', 'x0_98031',\n",
       "       'x0_98032', 'x0_98033', 'x0_98034', 'x0_98038', 'x0_98039', 'x0_98040',\n",
       "       'x0_98042', 'x0_98045', 'x0_98052', 'x0_98053', 'x0_98055', 'x0_98056',\n",
       "       'x0_98058', 'x0_98059', 'x0_98065', 'x0_98070', 'x0_98072', 'x0_98074',\n",
       "       'x0_98075', 'x0_98077', 'x0_98092', 'x0_98102', 'x0_98103', 'x0_98105',\n",
       "       'x0_98106', 'x0_98107', 'x0_98108', 'x0_98109', 'x0_98112', 'x0_98115',\n",
       "       'x0_98116', 'x0_98117', 'x0_98118', 'x0_98119', 'x0_98122', 'x0_98125',\n",
       "       'x0_98126', 'x0_98133', 'x0_98136', 'x0_98144', 'x0_98146', 'x0_98148',\n",
       "       'x0_98155', 'x0_98166', 'x0_98168', 'x0_98177', 'x0_98178', 'x0_98188',\n",
       "       'x0_98198', 'x0_98199', 'price_BOXCOX'],\n",
       "      dtype='object')"
      ]
     },
     "execution_count": 9,
     "metadata": {},
     "output_type": "execute_result"
    }
   ],
   "source": [
    "casas_est.columns"
   ]
  },
  {
   "cell_type": "code",
   "execution_count": 10,
   "metadata": {},
   "outputs": [
    {
     "data": {
      "text/html": [
       "<table class=\"simpletable\">\n",
       "<caption>OLS Regression Results</caption>\n",
       "<tr>\n",
       "  <th>Dep. Variable:</th>      <td>price_BOXCOX</td>   <th>  R-squared:         </th> <td>   0.487</td> \n",
       "</tr>\n",
       "<tr>\n",
       "  <th>Model:</th>                   <td>OLS</td>       <th>  Adj. R-squared:    </th> <td>   0.487</td> \n",
       "</tr>\n",
       "<tr>\n",
       "  <th>Method:</th>             <td>Least Squares</td>  <th>  F-statistic:       </th> <td>   2150.</td> \n",
       "</tr>\n",
       "<tr>\n",
       "  <th>Date:</th>             <td>Fri, 13 May 2022</td> <th>  Prob (F-statistic):</th>  <td>  0.00</td>  \n",
       "</tr>\n",
       "<tr>\n",
       "  <th>Time:</th>                 <td>12:03:33</td>     <th>  Log-Likelihood:    </th> <td> -48953.</td> \n",
       "</tr>\n",
       "<tr>\n",
       "  <th>No. Observations:</th>      <td> 20406</td>      <th>  AIC:               </th> <td>9.793e+04</td>\n",
       "</tr>\n",
       "<tr>\n",
       "  <th>Df Residuals:</th>          <td> 20396</td>      <th>  BIC:               </th> <td>9.801e+04</td>\n",
       "</tr>\n",
       "<tr>\n",
       "  <th>Df Model:</th>              <td>     9</td>      <th>                     </th>     <td> </td>    \n",
       "</tr>\n",
       "<tr>\n",
       "  <th>Covariance Type:</th>      <td>nonrobust</td>    <th>                     </th>     <td> </td>    \n",
       "</tr>\n",
       "</table>\n",
       "<table class=\"simpletable\">\n",
       "<tr>\n",
       "        <td></td>           <th>coef</th>     <th>std err</th>      <th>t</th>      <th>P>|t|</th>  <th>[0.025</th>    <th>0.975]</th>  \n",
       "</tr>\n",
       "<tr>\n",
       "  <th>Intercept</th>     <td>   28.9481</td> <td>    0.230</td> <td>  125.993</td> <td> 0.000</td> <td>   28.498</td> <td>   29.398</td>\n",
       "</tr>\n",
       "<tr>\n",
       "  <th>bedrooms</th>      <td>   -0.1359</td> <td>    0.032</td> <td>   -4.285</td> <td> 0.000</td> <td>   -0.198</td> <td>   -0.074</td>\n",
       "</tr>\n",
       "<tr>\n",
       "  <th>waterfront</th>    <td>    1.3215</td> <td>    0.361</td> <td>    3.656</td> <td> 0.000</td> <td>    0.613</td> <td>    2.030</td>\n",
       "</tr>\n",
       "<tr>\n",
       "  <th>view</th>          <td>    0.5344</td> <td>    0.032</td> <td>   16.930</td> <td> 0.000</td> <td>    0.472</td> <td>    0.596</td>\n",
       "</tr>\n",
       "<tr>\n",
       "  <th>condition</th>     <td>    0.7331</td> <td>    0.030</td> <td>   24.047</td> <td> 0.000</td> <td>    0.673</td> <td>    0.793</td>\n",
       "</tr>\n",
       "<tr>\n",
       "  <th>grade</th>         <td>    1.5162</td> <td>    0.028</td> <td>   55.070</td> <td> 0.000</td> <td>    1.462</td> <td>    1.570</td>\n",
       "</tr>\n",
       "<tr>\n",
       "  <th>sqft_above</th>    <td>    0.0017</td> <td> 5.15e-05</td> <td>   33.986</td> <td> 0.000</td> <td>    0.002</td> <td>    0.002</td>\n",
       "</tr>\n",
       "<tr>\n",
       "  <th>sqft_basement</th> <td>    0.0022</td> <td> 5.97e-05</td> <td>   37.097</td> <td> 0.000</td> <td>    0.002</td> <td>    0.002</td>\n",
       "</tr>\n",
       "<tr>\n",
       "  <th>bat_bed</th>       <td>    0.3326</td> <td>    0.112</td> <td>    2.966</td> <td> 0.003</td> <td>    0.113</td> <td>    0.552</td>\n",
       "</tr>\n",
       "<tr>\n",
       "  <th>sqft_floors</th>   <td>   -0.0009</td> <td> 5.73e-05</td> <td>  -15.542</td> <td> 0.000</td> <td>   -0.001</td> <td>   -0.001</td>\n",
       "</tr>\n",
       "</table>\n",
       "<table class=\"simpletable\">\n",
       "<tr>\n",
       "  <th>Omnibus:</th>       <td>30.847</td> <th>  Durbin-Watson:     </th> <td>   1.975</td>\n",
       "</tr>\n",
       "<tr>\n",
       "  <th>Prob(Omnibus):</th> <td> 0.000</td> <th>  Jarque-Bera (JB):  </th> <td>  27.613</td>\n",
       "</tr>\n",
       "<tr>\n",
       "  <th>Skew:</th>          <td> 0.048</td> <th>  Prob(JB):          </th> <td>1.01e-06</td>\n",
       "</tr>\n",
       "<tr>\n",
       "  <th>Kurtosis:</th>      <td> 2.847</td> <th>  Cond. No.          </th> <td>4.32e+04</td>\n",
       "</tr>\n",
       "</table><br/><br/>Notes:<br/>[1] Standard Errors assume that the covariance matrix of the errors is correctly specified.<br/>[2] The condition number is large, 4.32e+04. This might indicate that there are<br/>strong multicollinearity or other numerical problems."
      ],
      "text/plain": [
       "<class 'statsmodels.iolib.summary.Summary'>\n",
       "\"\"\"\n",
       "                            OLS Regression Results                            \n",
       "==============================================================================\n",
       "Dep. Variable:           price_BOXCOX   R-squared:                       0.487\n",
       "Model:                            OLS   Adj. R-squared:                  0.487\n",
       "Method:                 Least Squares   F-statistic:                     2150.\n",
       "Date:                Fri, 13 May 2022   Prob (F-statistic):               0.00\n",
       "Time:                        12:03:33   Log-Likelihood:                -48953.\n",
       "No. Observations:               20406   AIC:                         9.793e+04\n",
       "Df Residuals:                   20396   BIC:                         9.801e+04\n",
       "Df Model:                           9                                         \n",
       "Covariance Type:            nonrobust                                         \n",
       "=================================================================================\n",
       "                    coef    std err          t      P>|t|      [0.025      0.975]\n",
       "---------------------------------------------------------------------------------\n",
       "Intercept        28.9481      0.230    125.993      0.000      28.498      29.398\n",
       "bedrooms         -0.1359      0.032     -4.285      0.000      -0.198      -0.074\n",
       "waterfront        1.3215      0.361      3.656      0.000       0.613       2.030\n",
       "view              0.5344      0.032     16.930      0.000       0.472       0.596\n",
       "condition         0.7331      0.030     24.047      0.000       0.673       0.793\n",
       "grade             1.5162      0.028     55.070      0.000       1.462       1.570\n",
       "sqft_above        0.0017   5.15e-05     33.986      0.000       0.002       0.002\n",
       "sqft_basement     0.0022   5.97e-05     37.097      0.000       0.002       0.002\n",
       "bat_bed           0.3326      0.112      2.966      0.003       0.113       0.552\n",
       "sqft_floors      -0.0009   5.73e-05    -15.542      0.000      -0.001      -0.001\n",
       "==============================================================================\n",
       "Omnibus:                       30.847   Durbin-Watson:                   1.975\n",
       "Prob(Omnibus):                  0.000   Jarque-Bera (JB):               27.613\n",
       "Skew:                           0.048   Prob(JB):                     1.01e-06\n",
       "Kurtosis:                       2.847   Cond. No.                     4.32e+04\n",
       "==============================================================================\n",
       "\n",
       "Notes:\n",
       "[1] Standard Errors assume that the covariance matrix of the errors is correctly specified.\n",
       "[2] The condition number is large, 4.32e+04. This might indicate that there are\n",
       "strong multicollinearity or other numerical problems.\n",
       "\"\"\""
      ]
     },
     "execution_count": 10,
     "metadata": {},
     "output_type": "execute_result"
    }
   ],
   "source": [
    "results = smf.ols(\"price_BOXCOX ~  bedrooms + waterfront + view + condition + grade + sqft_above + sqft_basement + bat_bed + sqft_floors\", data=casas_est).fit() \n",
    "results.summary()"
   ]
  },
  {
   "cell_type": "code",
   "execution_count": 12,
   "metadata": {},
   "outputs": [],
   "source": [
    "X = casas_no_outliers_categorical.drop('price', axis =1)\n",
    "y = casas_no_outliers_categorical['price']\n",
    "\n",
    "\n",
    "X_train, X_test, y_train, y_test = train_test_split(X, y, train_size   = 0.8)"
   ]
  },
  {
   "cell_type": "code",
   "execution_count": 13,
   "metadata": {},
   "outputs": [
    {
     "data": {
      "text/html": [
       "<table class=\"simpletable\">\n",
       "<caption>OLS Regression Results</caption>\n",
       "<tr>\n",
       "  <th>Dep. Variable:</th>          <td>price</td>      <th>  R-squared:         </th>  <td>   0.502</td>  \n",
       "</tr>\n",
       "<tr>\n",
       "  <th>Model:</th>                   <td>OLS</td>       <th>  Adj. R-squared:    </th>  <td>   0.501</td>  \n",
       "</tr>\n",
       "<tr>\n",
       "  <th>Method:</th>             <td>Least Squares</td>  <th>  F-statistic:       </th>  <td>   2282.</td>  \n",
       "</tr>\n",
       "<tr>\n",
       "  <th>Date:</th>             <td>Fri, 13 May 2022</td> <th>  Prob (F-statistic):</th>   <td>  0.00</td>   \n",
       "</tr>\n",
       "<tr>\n",
       "  <th>Time:</th>                 <td>12:06:23</td>     <th>  Log-Likelihood:    </th> <td>-2.7170e+05</td>\n",
       "</tr>\n",
       "<tr>\n",
       "  <th>No. Observations:</th>      <td> 20406</td>      <th>  AIC:               </th>  <td>5.434e+05</td> \n",
       "</tr>\n",
       "<tr>\n",
       "  <th>Df Residuals:</th>          <td> 20396</td>      <th>  BIC:               </th>  <td>5.435e+05</td> \n",
       "</tr>\n",
       "<tr>\n",
       "  <th>Df Model:</th>              <td>     9</td>      <th>                     </th>      <td> </td>     \n",
       "</tr>\n",
       "<tr>\n",
       "  <th>Covariance Type:</th>      <td>nonrobust</td>    <th>                     </th>      <td> </td>     \n",
       "</tr>\n",
       "</table>\n",
       "<table class=\"simpletable\">\n",
       "<tr>\n",
       "        <td></td>           <th>coef</th>     <th>std err</th>      <th>t</th>      <th>P>|t|</th>  <th>[0.025</th>    <th>0.975]</th>  \n",
       "</tr>\n",
       "<tr>\n",
       "  <th>Intercept</th>     <td>-4.178e+05</td> <td> 1.26e+04</td> <td>  -33.041</td> <td> 0.000</td> <td>-4.43e+05</td> <td>-3.93e+05</td>\n",
       "</tr>\n",
       "<tr>\n",
       "  <th>bedrooms</th>      <td>-1.353e+04</td> <td> 1745.164</td> <td>   -7.754</td> <td> 0.000</td> <td> -1.7e+04</td> <td>-1.01e+04</td>\n",
       "</tr>\n",
       "<tr>\n",
       "  <th>waterfront</th>    <td> 6.694e+04</td> <td> 1.99e+04</td> <td>    3.365</td> <td> 0.001</td> <td> 2.79e+04</td> <td> 1.06e+05</td>\n",
       "</tr>\n",
       "<tr>\n",
       "  <th>view</th>          <td> 3.555e+04</td> <td> 1737.112</td> <td>   20.464</td> <td> 0.000</td> <td> 3.21e+04</td> <td>  3.9e+04</td>\n",
       "</tr>\n",
       "<tr>\n",
       "  <th>condition</th>     <td> 4.292e+04</td> <td> 1677.781</td> <td>   25.582</td> <td> 0.000</td> <td> 3.96e+04</td> <td> 4.62e+04</td>\n",
       "</tr>\n",
       "<tr>\n",
       "  <th>grade</th>         <td> 8.274e+04</td> <td> 1515.249</td> <td>   54.606</td> <td> 0.000</td> <td> 7.98e+04</td> <td> 8.57e+04</td>\n",
       "</tr>\n",
       "<tr>\n",
       "  <th>sqft_above</th>    <td>  106.7911</td> <td>    2.833</td> <td>   37.699</td> <td> 0.000</td> <td>  101.239</td> <td>  112.344</td>\n",
       "</tr>\n",
       "<tr>\n",
       "  <th>sqft_basement</th> <td>  125.4593</td> <td>    3.288</td> <td>   38.158</td> <td> 0.000</td> <td>  119.015</td> <td>  131.904</td>\n",
       "</tr>\n",
       "<tr>\n",
       "  <th>bat_bed</th>       <td> 2217.6058</td> <td> 6170.058</td> <td>    0.359</td> <td> 0.719</td> <td>-9876.204</td> <td> 1.43e+04</td>\n",
       "</tr>\n",
       "<tr>\n",
       "  <th>sqft_floors</th>   <td>  -45.3158</td> <td>    3.152</td> <td>  -14.378</td> <td> 0.000</td> <td>  -51.494</td> <td>  -39.138</td>\n",
       "</tr>\n",
       "</table>\n",
       "<table class=\"simpletable\">\n",
       "<tr>\n",
       "  <th>Omnibus:</th>       <td>1045.557</td> <th>  Durbin-Watson:     </th> <td>   1.968</td> \n",
       "</tr>\n",
       "<tr>\n",
       "  <th>Prob(Omnibus):</th>  <td> 0.000</td>  <th>  Jarque-Bera (JB):  </th> <td>1284.171</td> \n",
       "</tr>\n",
       "<tr>\n",
       "  <th>Skew:</th>           <td> 0.533</td>  <th>  Prob(JB):          </th> <td>1.40e-279</td>\n",
       "</tr>\n",
       "<tr>\n",
       "  <th>Kurtosis:</th>       <td> 3.611</td>  <th>  Cond. No.          </th> <td>4.32e+04</td> \n",
       "</tr>\n",
       "</table><br/><br/>Notes:<br/>[1] Standard Errors assume that the covariance matrix of the errors is correctly specified.<br/>[2] The condition number is large, 4.32e+04. This might indicate that there are<br/>strong multicollinearity or other numerical problems."
      ],
      "text/plain": [
       "<class 'statsmodels.iolib.summary.Summary'>\n",
       "\"\"\"\n",
       "                            OLS Regression Results                            \n",
       "==============================================================================\n",
       "Dep. Variable:                  price   R-squared:                       0.502\n",
       "Model:                            OLS   Adj. R-squared:                  0.501\n",
       "Method:                 Least Squares   F-statistic:                     2282.\n",
       "Date:                Fri, 13 May 2022   Prob (F-statistic):               0.00\n",
       "Time:                        12:06:23   Log-Likelihood:            -2.7170e+05\n",
       "No. Observations:               20406   AIC:                         5.434e+05\n",
       "Df Residuals:                   20396   BIC:                         5.435e+05\n",
       "Df Model:                           9                                         \n",
       "Covariance Type:            nonrobust                                         \n",
       "=================================================================================\n",
       "                    coef    std err          t      P>|t|      [0.025      0.975]\n",
       "---------------------------------------------------------------------------------\n",
       "Intercept     -4.178e+05   1.26e+04    -33.041      0.000   -4.43e+05   -3.93e+05\n",
       "bedrooms      -1.353e+04   1745.164     -7.754      0.000    -1.7e+04   -1.01e+04\n",
       "waterfront     6.694e+04   1.99e+04      3.365      0.001    2.79e+04    1.06e+05\n",
       "view           3.555e+04   1737.112     20.464      0.000    3.21e+04     3.9e+04\n",
       "condition      4.292e+04   1677.781     25.582      0.000    3.96e+04    4.62e+04\n",
       "grade          8.274e+04   1515.249     54.606      0.000    7.98e+04    8.57e+04\n",
       "sqft_above      106.7911      2.833     37.699      0.000     101.239     112.344\n",
       "sqft_basement   125.4593      3.288     38.158      0.000     119.015     131.904\n",
       "bat_bed        2217.6058   6170.058      0.359      0.719   -9876.204    1.43e+04\n",
       "sqft_floors     -45.3158      3.152    -14.378      0.000     -51.494     -39.138\n",
       "==============================================================================\n",
       "Omnibus:                     1045.557   Durbin-Watson:                   1.968\n",
       "Prob(Omnibus):                  0.000   Jarque-Bera (JB):             1284.171\n",
       "Skew:                           0.533   Prob(JB):                    1.40e-279\n",
       "Kurtosis:                       3.611   Cond. No.                     4.32e+04\n",
       "==============================================================================\n",
       "\n",
       "Notes:\n",
       "[1] Standard Errors assume that the covariance matrix of the errors is correctly specified.\n",
       "[2] The condition number is large, 4.32e+04. This might indicate that there are\n",
       "strong multicollinearity or other numerical problems.\n",
       "\"\"\""
      ]
     },
     "execution_count": 13,
     "metadata": {},
     "output_type": "execute_result"
    }
   ],
   "source": [
    "results = smf.ols(\"price ~  bedrooms + waterfront + view + condition + grade + sqft_above + sqft_basement + bat_bed + sqft_floors\", data=casas_no_outliers_categorical).fit() \n",
    "results.summary()"
   ]
  },
  {
   "cell_type": "code",
   "execution_count": 14,
   "metadata": {},
   "outputs": [
    {
     "data": {
      "text/plain": [
       "LinearRegression()"
      ]
     },
     "execution_count": 14,
     "metadata": {},
     "output_type": "execute_result"
    }
   ],
   "source": [
    "# iniciamos el método de Linear Regression\n",
    "casas_est = LinearRegression()\n",
    "\n",
    "X_train, X_test, y_train, y_test = train_test_split(X, y, train_size   = 0.8)\n",
    "# es el momento de ajustar el modelo. Para eso usaremos el método .fit() donde le tendremos que pasar las variables predictoras y la respuesta\n",
    "\n",
    "casas_est.fit(X_train, y_train)"
   ]
  },
  {
   "cell_type": "code",
   "execution_count": 15,
   "metadata": {},
   "outputs": [
    {
     "data": {
      "text/plain": [
       "2435464223398.836"
      ]
     },
     "execution_count": 15,
     "metadata": {},
     "output_type": "execute_result"
    }
   ],
   "source": [
    "casas_est.intercept_"
   ]
  },
  {
   "cell_type": "code",
   "execution_count": 16,
   "metadata": {},
   "outputs": [
    {
     "data": {
      "text/plain": [
       "-2131031330312.1328"
      ]
     },
     "execution_count": 16,
     "metadata": {},
     "output_type": "execute_result"
    }
   ],
   "source": [
    "casas_est.coef_.mean()"
   ]
  },
  {
   "cell_type": "code",
   "execution_count": 17,
   "metadata": {},
   "outputs": [],
   "source": [
    "y_pred_test = casas_est.predict(X_test)\n",
    "y_pred_train = casas_est.predict(X_train)"
   ]
  },
  {
   "cell_type": "code",
   "execution_count": 18,
   "metadata": {},
   "outputs": [
    {
     "name": "stdout",
     "output_type": "stream",
     "text": [
      "Mean Absolute Error: 63450.6186315302\n",
      "Mean Squared Error: 7600267725.452457\n",
      "Root Mean Squared Error: 87179.51436806962\n",
      "R2: 0.820693357719261\n"
     ]
    }
   ],
   "source": [
    "print('Mean Absolute Error:', metrics.mean_absolute_error(y_test, y_pred_test))\n",
    "print('Mean Squared Error:', metrics.mean_squared_error(y_test, y_pred_test))\n",
    "print('Root Mean Squared Error:', np.sqrt(metrics.mean_squared_error(y_test, y_pred_test)))\n",
    "print(\"R2:\",  metrics.r2_score(y_test, y_pred_test))"
   ]
  },
  {
   "cell_type": "code",
   "execution_count": 19,
   "metadata": {},
   "outputs": [
    {
     "name": "stdout",
     "output_type": "stream",
     "text": [
      "Mean Absolute Error: 64263.91829622508\n",
      "Mean Squared Error: 7735116122.6709\n",
      "Root Mean Squared Error: 87949.50893933917\n",
      "R2: 0.8215295805443824\n"
     ]
    }
   ],
   "source": [
    "print('Mean Absolute Error:', metrics.mean_absolute_error(y_train, y_pred_train))\n",
    "print('Mean Squared Error:', metrics.mean_squared_error(y_train, y_pred_train))\n",
    "print('Root Mean Squared Error:', np.sqrt(metrics.mean_squared_error(y_train, y_pred_train)))\n",
    "print(\"R2:\",  metrics.r2_score(y_train, y_pred_train))"
   ]
  },
  {
   "cell_type": "code",
   "execution_count": 20,
   "metadata": {},
   "outputs": [],
   "source": [
    "def metricas(y_test, y_train, y_test_pred, y_train_pred, tipo_modelo):\n",
    "    \n",
    "    \n",
    "    resultados = {'MAE': [metrics.mean_absolute_error(y_test, y_test_pred), metrics.mean_absolute_error(y_train, y_train_pred)],\n",
    "                'MSE': [metrics.mean_squared_error(y_test, y_test_pred), metrics.mean_squared_error(y_train, y_train_pred)],\n",
    "                'RMSE': [np.sqrt(metrics.mean_squared_error(y_test, y_test_pred)), np.sqrt(metrics.mean_squared_error(y_train, y_train_pred))],\n",
    "                'R2':  [metrics.r2_score(y_test, y_test_pred), metrics.r2_score(y_train, y_train_pred)],\n",
    "                 \"set\": [\"test\", \"train\"]}\n",
    "    df = pd.DataFrame(resultados)\n",
    "    df[\"modelo\"] = tipo_modelo\n",
    "    return df"
   ]
  },
  {
   "cell_type": "code",
   "execution_count": 21,
   "metadata": {},
   "outputs": [],
   "source": [
    "casas_est_results = metricas(y_test, y_train, y_pred_test, y_pred_train, \"Regresion lineal\")"
   ]
  },
  {
   "cell_type": "code",
   "execution_count": 22,
   "metadata": {},
   "outputs": [
    {
     "data": {
      "text/html": [
       "<div>\n",
       "<style scoped>\n",
       "    .dataframe tbody tr th:only-of-type {\n",
       "        vertical-align: middle;\n",
       "    }\n",
       "\n",
       "    .dataframe tbody tr th {\n",
       "        vertical-align: top;\n",
       "    }\n",
       "\n",
       "    .dataframe thead th {\n",
       "        text-align: right;\n",
       "    }\n",
       "</style>\n",
       "<table border=\"1\" class=\"dataframe\">\n",
       "  <thead>\n",
       "    <tr style=\"text-align: right;\">\n",
       "      <th></th>\n",
       "      <th>MAE</th>\n",
       "      <th>MSE</th>\n",
       "      <th>RMSE</th>\n",
       "      <th>R2</th>\n",
       "      <th>set</th>\n",
       "      <th>modelo</th>\n",
       "    </tr>\n",
       "  </thead>\n",
       "  <tbody>\n",
       "    <tr>\n",
       "      <th>0</th>\n",
       "      <td>63450.618632</td>\n",
       "      <td>7.600268e+09</td>\n",
       "      <td>87179.514368</td>\n",
       "      <td>0.820693</td>\n",
       "      <td>test</td>\n",
       "      <td>Regresion lineal</td>\n",
       "    </tr>\n",
       "    <tr>\n",
       "      <th>1</th>\n",
       "      <td>64263.918296</td>\n",
       "      <td>7.735116e+09</td>\n",
       "      <td>87949.508939</td>\n",
       "      <td>0.821530</td>\n",
       "      <td>train</td>\n",
       "      <td>Regresion lineal</td>\n",
       "    </tr>\n",
       "  </tbody>\n",
       "</table>\n",
       "</div>"
      ],
      "text/plain": [
       "            MAE           MSE          RMSE        R2    set            modelo\n",
       "0  63450.618632  7.600268e+09  87179.514368  0.820693   test  Regresion lineal\n",
       "1  64263.918296  7.735116e+09  87949.508939  0.821530  train  Regresion lineal"
      ]
     },
     "execution_count": 22,
     "metadata": {},
     "output_type": "execute_result"
    }
   ],
   "source": [
    "casas_est_results"
   ]
  }
 ],
 "metadata": {
  "interpreter": {
   "hash": "a12e2a4323b2f78fc80bc9af7b1a03df0527f4eb569d45f0586a1ac4c8c01671"
  },
  "kernelspec": {
   "display_name": "Python 3.9.7 ('py39')",
   "language": "python",
   "name": "python3"
  },
  "language_info": {
   "codemirror_mode": {
    "name": "ipython",
    "version": 3
   },
   "file_extension": ".py",
   "mimetype": "text/x-python",
   "name": "python",
   "nbconvert_exporter": "python",
   "pygments_lexer": "ipython3",
   "version": "3.9.7"
  },
  "orig_nbformat": 4
 },
 "nbformat": 4,
 "nbformat_minor": 2
}
